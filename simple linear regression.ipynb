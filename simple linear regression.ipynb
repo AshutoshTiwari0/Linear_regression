{
 "cells": [
  {
   "cell_type": "code",
   "execution_count": null,
   "id": "1e943fc8-5bd8-4088-9eac-bd1c10327830",
   "metadata": {},
   "outputs": [],
   "source": [
    "#building a linear regression model for student marks dataset. It is just a samll dataset."
   ]
  },
  {
   "cell_type": "markdown",
   "id": "fe19ba34-04d3-4ee0-ac09-12af5316e1c4",
   "metadata": {},
   "source": [
    "importing libraries"
   ]
  },
  {
   "cell_type": "code",
   "execution_count": 1,
   "id": "ea03ce80-dea7-4192-98d7-665f2bc24b16",
   "metadata": {},
   "outputs": [],
   "source": [
    "import pandas as pd\n"
   ]
  },
  {
   "cell_type": "markdown",
   "id": "ba639a06-3089-430f-9244-4b74609cfe95",
   "metadata": {},
   "source": [
    "reading file"
   ]
  },
  {
   "cell_type": "code",
   "execution_count": 4,
   "id": "94583075-f4db-400b-bfb6-b99cabb281e4",
   "metadata": {},
   "outputs": [],
   "source": [
    "dataset=pd.read_csv(\"DATA_STORAGE/01Students.csv\")\n",
    "df=dataset.copy()"
   ]
  },
  {
   "cell_type": "code",
   "execution_count": 10,
   "id": "4b95a661-5c29-4e32-a801-2b0d372e003b",
   "metadata": {},
   "outputs": [
    {
     "name": "stdout",
     "output_type": "stream",
     "text": [
      "    Hours\n",
      "0       0\n",
      "1       1\n",
      "2       1\n",
      "3       1\n",
      "4       1\n",
      "5       2\n",
      "6       2\n",
      "7       3\n",
      "8       3\n",
      "9       3\n",
      "10      3\n",
      "11      4\n",
      "12      4\n",
      "13      4\n",
      "14      5\n",
      "15      5\n",
      "16      6\n",
      "17      6\n",
      "18      7\n",
      "19      7\n",
      "20      7\n",
      "21      7\n",
      "22      8\n",
      "23      8\n",
      "24      9\n",
      "25      9\n",
      "26      9\n",
      "27     10\n",
      "28     10\n",
      "29     11\n",
      "---------------------------------------------------\n",
      "0     34\n",
      "1     36\n",
      "2     33\n",
      "3     39\n",
      "4     42\n",
      "5     45\n",
      "6     38\n",
      "7     45\n",
      "8     53\n",
      "9     46\n",
      "10    56\n",
      "11    59\n",
      "12    55\n",
      "13    56\n",
      "14    72\n",
      "15    59\n",
      "16    62\n",
      "17    71\n",
      "18    78\n",
      "19    88\n",
      "20    61\n",
      "21    74\n",
      "22    71\n",
      "23    89\n",
      "24    82\n",
      "25    67\n",
      "26    89\n",
      "27    81\n",
      "28    82\n",
      "29    79\n",
      "Name: Marks, dtype: int64\n"
     ]
    }
   ],
   "source": [
    "#splitting the data into X and Y\n",
    "#there are no missing data for now in this dataset\n",
    "X=df.iloc[:,:-1]\n",
    "Y=df.iloc[:,-1]\n",
    "print(X)\n",
    "print(\"---------------------------------------------------\")\n",
    "print(Y)\n",
    "\n",
    "\n",
    "#[:,:-1]: This slicing operation within iloc is used to select all rows (: before the comma) and all columns except for the last one (:-1 after the comma). In Python slicing, the notation :-1 means \"from the beginning up to, but not including, the last element\". So, this part of the code selects all columns of the DataFrame except for the last one.\n",
    "#Y=df.iloc[:,-1]: This line selects all rows (:) and only the last column (-1) of the DataFrame df and assigns it to a variable Y. This indicates that Y contains the target variable or labels of the dataset.\n",
    "\n"
   ]
  },
  {
   "cell_type": "markdown",
   "id": "88ba84c9-91b6-4ba4-a08a-b76e0ad71959",
   "metadata": {},
   "source": [
    "Splitting data into training and splitting"
   ]
  },
  {
   "cell_type": "code",
   "execution_count": 39,
   "id": "3eb30844-b2c4-4774-a70a-c1b3c5e723c5",
   "metadata": {},
   "outputs": [],
   "source": [
    "from sklearn.model_selection import train_test_split\n",
    "\n",
    "X_train,X_test,Y_train,Y_test=train_test_split(X,Y,test_size=0.3,random_state=1234)\n",
    "#maintain this X_train ->X_test->Y_train,Y_test format otherwise we will get error\n",
    "\n"
   ]
  },
  {
   "cell_type": "markdown",
   "id": "d9d1c07d-8f5c-445e-89a7-6cbac24d7f08",
   "metadata": {},
   "source": [
    "Creating a simple linear regression model"
   ]
  },
  {
   "cell_type": "code",
   "execution_count": 47,
   "id": "36869b49-682a-4d94-828b-6a36ba7a1770",
   "metadata": {},
   "outputs": [
    {
     "name": "stdout",
     "output_type": "stream",
     "text": [
      "[49.35373808 49.35373808 39.29954842 39.29954842 84.54340191 49.35373808\n",
      " 39.29954842 74.48921224 59.40792775]\n",
      "0.8445283770796626\n",
      "coefficient is [5.02709483] and the intercept is 34.272453587556456\n"
     ]
    }
   ],
   "source": [
    "from sklearn.linear_model import LinearRegression\n",
    "\n",
    "#creating object\n",
    "model=LinearRegression() #currently we got the model only \n",
    "\n",
    "\n",
    "model.fit(X_train,Y_train) #finds the value of co efficients\n",
    "#train on our training data\n",
    "\n",
    "#lets now predict the values of Y\n",
    "y_predict= model.predict(X_test) #first we trained now we are testing it on our data\n",
    "print(y_predict) #we got the predicted values\n",
    "\n",
    "\n",
    "#currently we have predicted the values but we do not know the accuracy and r square value\n",
    "#lets now find the r square value and eq of line\n",
    "slr_score=model.score(X_test,Y_test) #we get r square value of x test\n",
    "print(slr_score) #0.8445 pretty good score\n",
    "\n",
    "\n",
    "#co efficient of the lines\n",
    "slr_coefficient=model.coef_\n",
    "slr_intercept=model.intercept_\n",
    "\n",
    "print(f\"coefficient is {slr_coefficient} and the intercept is {slr_intercept}\")\n",
    "\n",
    "\n",
    "#so the equation used for prediciting the above values are y=34.27+5.027*x   where 34.27 is intercept and 5.027 is the coefficient"
   ]
  },
  {
   "cell_type": "code",
   "execution_count": 51,
   "id": "f3fbc8be-6708-42de-a699-762b33840d4c",
   "metadata": {},
   "outputs": [
    {
     "name": "stdout",
     "output_type": "stream",
     "text": [
      "7.228680413688949\n"
     ]
    }
   ],
   "source": [
    "#lets now calculate the RMSE error which our model has \n",
    "from sklearn.metrics import mean_squared_error\n",
    "import math\n",
    "\n",
    "slr_rmse=math.sqrt(mean_squared_error(Y_test,y_predict))\n",
    "\n",
    "print(slr_rmse)\n"
   ]
  },
  {
   "cell_type": "code",
   "execution_count": 54,
   "id": "8030afb3-9cc3-4e95-bfd1-6b7199e38176",
   "metadata": {},
   "outputs": [
    {
     "data": {
      "image/png": "[encoded data removed]",
      "text/plain": [
       "<Figure size 640x480 with 1 Axes>"
      ]
     },
     "metadata": {},
     "output_type": "display_data"
    }
   ],
   "source": [
    "#plotting the predictions\n",
    "import matplotlib.pyplot as plt\n",
    "plt.scatter(X_test,Y_test)\n",
    "\n",
    "#trendline for test data\n",
    "plt.plot(X_test,y_predict)\n",
    "plt.ylim(ymin=0)\n",
    "plt.show()"
   ]
  }
 ],
 "metadata": {
  "kernelspec": {
   "display_name": "Python 3 (ipykernel)",
   "language": "python",
   "name": "python3"
  },
  "language_info": {
   "codemirror_mode": {
    "name": "ipython",
    "version": 3
   },
   "file_extension": ".py",
   "mimetype": "text/x-python",
   "name": "python",
   "nbconvert_exporter": "python",
   "pygments_lexer": "ipython3",
   "version": "3.11.7"
  }
 },
 "nbformat": 4,
 "nbformat_minor": 5
}
